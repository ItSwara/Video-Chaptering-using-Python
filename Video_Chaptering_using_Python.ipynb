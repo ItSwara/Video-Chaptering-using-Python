{
  "cells": [
    {
      "cell_type": "markdown",
      "metadata": {
        "id": "-SVUq3RgJjAd"
      },
      "source": [
        "I’ll collect data from a YouTube video for this task, for which we need to use the YouTube data API. You can follow the steps below to sign up and get access to the YouTube data API:\n",
        "\n",
        "1. Go to Google Cloud Console.\n",
        "2. Click on the project drop-down at the top, then “New Project”.\n",
        "3. Enter a project name and click “Create”.\n",
        "4. In the Google Cloud Console, navigate to “APIs & Services” > “Library”.\n",
        "5. Search for “YouTube Data API v3” and click on it.\n",
        "6. Click “Enable”.\n",
        "7. Go to “APIs & Services” > “Credentials”.\n",
        "8. Click “+ CREATE CREDENTIALS” and select “API key”.\n",
        "9. Copy the generated API key.\n",
        "\n",
        "\n",
        "\n",
        "\n",
        "\n",
        "\n",
        "\n",
        "\n",
        "\n",
        "\n",
        "\n"
      ]
    },
    {
      "cell_type": "code",
      "execution_count": 3,
      "metadata": {
        "colab": {
          "base_uri": "https://localhost:8080/"
        },
        "id": "e-48EE6vL4f9",
        "outputId": "cc0e2359-80b2-4e2e-cf2e-557b706384b1"
      },
      "outputs": [
        {
          "name": "stdout",
          "output_type": "stream",
          "text": [
            "Collecting youtube-transcript-api\n",
            "  Downloading youtube_transcript_api-0.6.3-py3-none-any.whl.metadata (17 kB)\n",
            "Requirement already satisfied: defusedxml<0.8.0,>=0.7.1 in /usr/local/lib/python3.11/dist-packages (from youtube-transcript-api) (0.7.1)\n",
            "Requirement already satisfied: requests in /usr/local/lib/python3.11/dist-packages (from youtube-transcript-api) (2.32.3)\n",
            "Requirement already satisfied: charset-normalizer<4,>=2 in /usr/local/lib/python3.11/dist-packages (from requests->youtube-transcript-api) (3.4.1)\n",
            "Requirement already satisfied: idna<4,>=2.5 in /usr/local/lib/python3.11/dist-packages (from requests->youtube-transcript-api) (3.10)\n",
            "Requirement already satisfied: urllib3<3,>=1.21.1 in /usr/local/lib/python3.11/dist-packages (from requests->youtube-transcript-api) (2.3.0)\n",
            "Requirement already satisfied: certifi>=2017.4.17 in /usr/local/lib/python3.11/dist-packages (from requests->youtube-transcript-api) (2024.12.14)\n",
            "Downloading youtube_transcript_api-0.6.3-py3-none-any.whl (622 kB)\n",
            "\u001b[?25l   \u001b[90m━━━━━━━━━━━━━━━━━━━━━━━━━━━━━━━━━━━━━━━━\u001b[0m \u001b[32m0.0/622.3 kB\u001b[0m \u001b[31m?\u001b[0m eta \u001b[36m-:--:--\u001b[0m\r\u001b[2K   \u001b[90m━━━━━━━━━━━━━━━━━━━━━━━━━━━━━━━━━━━━━━━━\u001b[0m \u001b[32m622.3/622.3 kB\u001b[0m \u001b[31m24.2 MB/s\u001b[0m eta \u001b[36m0:00:00\u001b[0m\n",
            "\u001b[?25hInstalling collected packages: youtube-transcript-api\n",
            "Successfully installed youtube-transcript-api-0.6.3\n"
          ]
        }
      ],
      "source": [
        "!pip install youtube-transcript-api\n"
      ]
    },
    {
      "cell_type": "code",
      "execution_count": 5,
      "metadata": {
        "colab": {
          "base_uri": "https://localhost:8080/"
        },
        "id": "5-QyiZV_JdJ2",
        "outputId": "97cec6b3-a89e-47f3-85bb-42aeddfc7ad4"
      },
      "outputs": [
        {
          "name": "stdout",
          "output_type": "stream",
          "text": [
            "Enter the YouTube video link: https://youtu.be/HKtryoXkNs4?si=eLoxM9jlnjO7wJxv\n",
            "Transcript saved to HKtryoXkNs4_transcript.csv\n"
          ]
        }
      ],
      "source": [
        "import re\n",
        "import csv\n",
        "import pandas as pd\n",
        "from googleapiclient.discovery import build\n",
        "from youtube_transcript_api import YouTubeTranscriptApi\n",
        "\n",
        "API_KEY = 'Your API Key'\n",
        "\n",
        "def get_video_id(url):\n",
        "    # extract video id from the URL\n",
        "    video_id_match = re.search(r'(?:v=|\\/)([0-9A-Za-z_-]{11}).*', url)\n",
        "    return video_id_match.group(1) if video_id_match else None\n",
        "\n",
        "def get_video_title(video_id):\n",
        "    # build the youTube service\n",
        "    youtube = build('youtube', 'v3', developerKey=API_KEY)\n",
        "\n",
        "    # fetch the video details\n",
        "    request = youtube.videos().list(\n",
        "        part='snippet',\n",
        "        id=video_id\n",
        "    )\n",
        "    response = request.execute()\n",
        "\n",
        "    # extract the title\n",
        "    title = response['items'][0]['snippet']['title'] if response['items'] else 'Unknown Title'\n",
        "    return title\n",
        "\n",
        "def get_video_transcript(video_id):\n",
        "    # fetch the transcript\n",
        "    try:\n",
        "        transcript = YouTubeTranscriptApi.get_transcript(video_id)\n",
        "        return transcript\n",
        "    except Exception as e:\n",
        "        print(f\"An error occurred: {e}\")\n",
        "        return []\n",
        "\n",
        "def save_to_csv(title, transcript, filename):\n",
        "    # save the title and transcript to a CSV file\n",
        "    transcript_data = [{'start': entry['start'], 'text': entry['text']} for entry in transcript]\n",
        "    df = pd.DataFrame(transcript_data)\n",
        "    df.to_csv(filename, index=False)\n",
        "\n",
        "    # save the title separately\n",
        "    with open(filename, 'a', newline='') as file:\n",
        "        writer = csv.writer(file)\n",
        "        writer.writerow(['Title:', title])\n",
        "\n",
        "def main():\n",
        "    url = input('Enter the YouTube video link: ')\n",
        "    video_id = get_video_id(url)\n",
        "\n",
        "    if not video_id:\n",
        "        print('Invalid YouTube URL.')\n",
        "        return\n",
        "\n",
        "    title = get_video_title(video_id)\n",
        "    transcript = get_video_transcript(video_id)\n",
        "\n",
        "    if not transcript:\n",
        "        print('No transcript available for this video.')\n",
        "        return\n",
        "\n",
        "    filename = f\"{video_id}_transcript.csv\"\n",
        "    save_to_csv(title, transcript, filename)\n",
        "    print(f'Transcript saved to {filename}')\n",
        "\n",
        "if __name__ == '__main__':\n",
        "    main()"
      ]
    },
    {
      "cell_type": "code",
      "execution_count": 7,
      "metadata": {
        "colab": {
          "base_uri": "https://localhost:8080/"
        },
        "id": "zSRgZMhYL05m",
        "outputId": "f63872ad-8435-45b5-80fd-1ce67c00c1a4"
      },
      "outputs": [
        {
          "name": "stdout",
          "output_type": "stream",
          "text": [
            "    start                                   text\n",
            "0    0.89                                [Music]\n",
            "1  19.279              it can't be said I'm unly\n",
            "2  22.359            bir it's 10: before I say a\n",
            "3   26.76  word baby I can never tell how do you\n",
            "4  30.599   sleep so well you keep telling me to\n"
          ]
        }
      ],
      "source": [
        "import pandas as pd\n",
        "import numpy as np\n",
        "import matplotlib.pyplot as plt\n",
        "from sklearn.feature_extraction.text import TfidfVectorizer, CountVectorizer\n",
        "from sklearn.decomposition import NMF, LatentDirichletAllocation\n",
        "\n",
        "# load the dataset\n",
        "transcript_df = pd.read_csv(\"HKtryoXkNs4_transcript.csv\")\n",
        "print(transcript_df.head())"
      ]
    },
    {
      "cell_type": "code",
      "execution_count": 8,
      "metadata": {
        "colab": {
          "base_uri": "https://localhost:8080/"
        },
        "id": "q0lAvi6NNERM",
        "outputId": "929cdc8b-6c07-46e7-cc2a-0dd949afa864"
      },
      "outputs": [
        {
          "name": "stdout",
          "output_type": "stream",
          "text": [
            "Dataset Overview:\n",
            "<class 'pandas.core.frame.DataFrame'>\n",
            "RangeIndex: 63 entries, 0 to 62\n",
            "Data columns (total 2 columns):\n",
            " #   Column  Non-Null Count  Dtype  \n",
            "---  ------  --------------  -----  \n",
            " 0   start   62 non-null     float64\n",
            " 1   text    63 non-null     object \n",
            "dtypes: float64(1), object(1)\n",
            "memory usage: 1.1+ KB\n",
            "None\n",
            "\n",
            "Basic Statistics:\n",
            "            start\n",
            "count   62.000000\n",
            "mean   126.361613\n",
            "std     67.792603\n",
            "min      0.890000\n",
            "25%     64.979000\n",
            "50%    129.939500\n",
            "75%    185.949000\n",
            "max    240.439000\n"
          ]
        }
      ],
      "source": [
        "transcript_df['start'] = pd.to_numeric(transcript_df['start'], errors='coerce')\n",
        "\n",
        "print(\"Dataset Overview:\")\n",
        "print(transcript_df.info())\n",
        "print(\"\\nBasic Statistics:\")\n",
        "print(transcript_df.describe())"
      ]
    },
    {
      "cell_type": "code",
      "execution_count": 9,
      "metadata": {
        "colab": {
          "base_uri": "https://localhost:8080/",
          "height": 487
        },
        "id": "z9M8YJypNFjp",
        "outputId": "52030aed-771c-42fe-ef9d-fd791ce490f7"
      },
      "outputs": [
        {
          "data": {
            "image/png": "[encoded data removed]",
            "text/plain": [
              "<Figure size 1000x500 with 1 Axes>"
            ]
          },
          "metadata": {},
          "output_type": "display_data"
        }
      ],
      "source": [
        "# distribution of text lengths\n",
        "transcript_df['text_length'] = transcript_df['text'].apply(len)\n",
        "plt.figure(figsize=(10, 5))\n",
        "plt.hist(transcript_df['text_length'], bins=50, color='blue', alpha=0.7)\n",
        "plt.title('Distribution of Text Lengths')\n",
        "plt.xlabel('Text Length')\n",
        "plt.ylabel('Frequency')\n",
        "plt.show()"
      ]
    },
    {
      "cell_type": "code",
      "execution_count": 10,
      "metadata": {
        "colab": {
          "base_uri": "https://localhost:8080/",
          "height": 536
        },
        "id": "vaC4Eny7NJ9h",
        "outputId": "ed1cd7a7-d6e1-43ff-d12a-b0a5bdcd7b1b"
      },
      "outputs": [
        {
          "data": {
            "image/png": "[encoded data removed]",
            "text/plain": [
              "<Figure size 1000x500 with 1 Axes>"
            ]
          },
          "metadata": {},
          "output_type": "display_data"
        }
      ],
      "source": [
        "# most common words\n",
        "vectorizer = CountVectorizer(stop_words='english')\n",
        "word_counts = vectorizer.fit_transform(transcript_df['text'])\n",
        "word_counts_df = pd.DataFrame(word_counts.toarray(), columns=vectorizer.get_feature_names_out())\n",
        "common_words = word_counts_df.sum().sort_values(ascending=False).head(20)\n",
        "plt.figure(figsize=(10, 5))\n",
        "common_words.plot(kind='bar', color='green', alpha=0.7)\n",
        "plt.title('Top 20 Common Words')\n",
        "plt.xlabel('Words')\n",
        "plt.ylabel('Frequency')\n",
        "plt.show()"
      ]
    },
    {
      "cell_type": "code",
      "execution_count": 11,
      "metadata": {
        "colab": {
          "base_uri": "https://localhost:8080/"
        },
        "id": "_1byF_AqNQsc",
        "outputId": "63374e7c-c037-4805-ac04-91749f5fc5c6"
      },
      "outputs": [
        {
          "name": "stdout",
          "output_type": "stream",
          "text": [
            "\n",
            "Identified Topics:\n",
            "Topic 1: coffee bed black skin wish don babe baby day know\n",
            "Topic 2: sweet wish don babe baby bed black coffee day know\n",
            "Topic 3: music baby skin black wish day babe bed coffee know\n",
            "Topic 4: don baby wish know babe skin music live like wake\n",
            "Topic 5: applause don babe baby bed black coffee day wish wake\n",
            "Topic 6: know live don babe baby bed black coffee day wish\n",
            "Topic 7: babe think wish don baby bed black coffee day know\n",
            "Topic 8: day bed baby wish don babe black coffee know wake\n",
            "Topic 9: wake baby wish don babe bed black coffee day know\n",
            "Topic 10: like wish don babe baby bed black coffee day know\n"
          ]
        }
      ],
      "source": [
        "# topic Modeling using NMF\n",
        "n_features = 1000\n",
        "n_topics = 10\n",
        "n_top_words = 10\n",
        "\n",
        "tf_vectorizer = CountVectorizer(max_df=0.95, min_df=2, stop_words='english')\n",
        "tf = tf_vectorizer.fit_transform(transcript_df['text'])\n",
        "nmf = NMF(n_components=n_topics, random_state=42).fit(tf)\n",
        "tf_feature_names = tf_vectorizer.get_feature_names_out()\n",
        "\n",
        "def display_topics(model, feature_names, no_top_words):\n",
        "    topics = []\n",
        "    for topic_idx, topic in enumerate(model.components_):\n",
        "        topic_words = [feature_names[i] for i in topic.argsort()[:-no_top_words - 1:-1]]\n",
        "        topics.append(\" \".join(topic_words))\n",
        "    return topics\n",
        "\n",
        "topics = display_topics(nmf, tf_feature_names, n_top_words)\n",
        "print(\"\\nIdentified Topics:\")\n",
        "for i, topic in enumerate(topics):\n",
        "    print(f\"Topic {i + 1}: {topic}\")"
      ]
    },
    {
      "cell_type": "code",
      "execution_count": 12,
      "metadata": {
        "id": "wnXqFM7uNdy2"
      },
      "outputs": [],
      "source": [
        "# get topic distribution for each text segment\n",
        "topic_distribution = nmf.transform(tf)\n",
        "\n",
        "# align the lengths by trimming the extra row in topic_distribution\n",
        "topic_distribution_trimmed = topic_distribution[:len(transcript_df)]\n",
        "\n",
        "# compute the dominant topic for each text segment\n",
        "transcript_df['dominant_topic'] = topic_distribution_trimmed.argmax(axis=1)"
      ]
    },
    {
      "cell_type": "code",
      "execution_count": 13,
      "metadata": {
        "id": "qgD8RWraNoLm"
      },
      "outputs": [],
      "source": [
        "# analyze the content of each text segment to manually identify logical breaks\n",
        "logical_breaks = []\n",
        "\n",
        "for i in range(1, len(transcript_df)):\n",
        "    if transcript_df['dominant_topic'].iloc[i] != transcript_df['dominant_topic'].iloc[i - 1]:\n",
        "        logical_breaks.append(transcript_df['start'].iloc[i])"
      ]
    },
    {
      "cell_type": "code",
      "execution_count": 14,
      "metadata": {
        "id": "HhBSko4WN179"
      },
      "outputs": [],
      "source": [
        "# consolidate the logical breaks into broader chapters\n",
        "threshold = 60  # seconds\n",
        "consolidated_breaks = []\n",
        "last_break = None\n",
        "\n",
        "for break_point in logical_breaks:\n",
        "    if last_break is None or break_point - last_break >= threshold:\n",
        "        consolidated_breaks.append(break_point)\n",
        "        last_break = break_point"
      ]
    },
    {
      "cell_type": "code",
      "execution_count": 15,
      "metadata": {
        "id": "NjPNpfG6N4qY"
      },
      "outputs": [],
      "source": [
        "# merge consecutive breaks with the same dominant topic\n",
        "final_chapters = []\n",
        "last_chapter = (consolidated_breaks[0], transcript_df['dominant_topic'][0])\n",
        "\n",
        "for break_point in consolidated_breaks[1:]:\n",
        "    current_topic = transcript_df[transcript_df['start'] == break_point]['dominant_topic'].values[0]\n",
        "    if current_topic == last_chapter[1]:\n",
        "        last_chapter = (last_chapter[0], current_topic)\n",
        "    else:\n",
        "        final_chapters.append(last_chapter)\n",
        "        last_chapter = (break_point, current_topic)\n",
        "\n",
        "final_chapters.append(last_chapter)  # append the last chapter"
      ]
    },
    {
      "cell_type": "code",
      "execution_count": 16,
      "metadata": {
        "colab": {
          "base_uri": "https://localhost:8080/"
        },
        "id": "hi65i_a7OIeG",
        "outputId": "e4fb4ce6-b0b4-4f1d-90bc-c98f28679b3f"
      },
      "outputs": [
        {
          "name": "stdout",
          "output_type": "stream",
          "text": [
            "\n",
            "Final Chapter Points with Names:\n",
            "00:00:19 - Chapter 1: music\n",
            "00:01:28 - Chapter 2: grape sit sweet\n",
            "00:03:34 - Chapter 3: applause\n"
          ]
        }
      ],
      "source": [
        "# Convert the final chapters to a readable time format\n",
        "chapter_points = []\n",
        "chapter_names = []\n",
        "\n",
        "for i, (break_point, topic_idx) in enumerate(final_chapters):\n",
        "    chapter_time = pd.to_datetime(break_point, unit='s').strftime('%H:%M:%S')\n",
        "    chapter_points.append(chapter_time)\n",
        "\n",
        "    # get the context for the chapter name\n",
        "    chapter_text = transcript_df[(transcript_df['start'] >= break_point) & (transcript_df['dominant_topic'] == topic_idx)]['text'].str.cat(sep=' ')\n",
        "\n",
        "    # extract key phrases to create a chapter name\n",
        "    vectorizer = TfidfVectorizer(stop_words='english', max_features=3)\n",
        "    tfidf_matrix = vectorizer.fit_transform([chapter_text])\n",
        "    feature_names = vectorizer.get_feature_names_out()\n",
        "    chapter_name = \" \".join(feature_names)\n",
        "\n",
        "    chapter_names.append(f\"Chapter {i+1}: {chapter_name}\")\n",
        "\n",
        "# display the final chapter points with names\n",
        "print(\"\\nFinal Chapter Points with Names:\")\n",
        "for time, name in zip(chapter_points, chapter_names):\n",
        "    print(f\"{time} - {name}\")"
      ]
    }
  ],
  "metadata": {
    "colab": {
      "provenance": [],
      "toc_visible": true
    },
    "kernelspec": {
      "display_name": "Python 3",
      "name": "python3"
    },
    "language_info": {
      "name": "python"
    }
  },
  "nbformat": 4,
  "nbformat_minor": 0
}
